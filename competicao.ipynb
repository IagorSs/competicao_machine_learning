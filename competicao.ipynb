{
 "cells": [
  {
   "cell_type": "markdown",
   "metadata": {},
   "source": [
    "#   COMPETIÇÃO\n",
    "\n",
    "Alunos Felipe Morais\n",
    "       Iagor Sousa\n",
    "       \n",
    "                                               MISSÃO\n",
    "       \n",
    "   **PEGAR OS QUE MAIS REPETEM E, NUM DATA FRAME GRANDE, USAR ISSO COMO PARÂMETRO PARA IDENTIFICAR O GÊNERO**"
   ]
  },
  {
   "cell_type": "markdown",
   "metadata": {},
   "source": [
    "### ETAPA 1: _ELENCAR OS DADOS_\n",
    "\n",
    "    \n",
    "\n",
    "  - Separar o data_frame em dois: um de Action e outro de Comedy\n",
    "\n",
    " Parâmetros para se guiar:\n",
    "\n",
    "1 .**Diretor** --> \n",
    "\n",
    "  - Usar BagOfItens com min_occur de 3\n",
    "  \n",
    "  \n",
    "  - Daí teremos o data_frame binarizado, com 1 em todos os documentos (filmes) em que ele dirigiu\n",
    "  \n",
    "  \n",
    "  - Realizar a soma dos 1's em cada atributo (ver quantos filmes ele dirigiu)\n",
    "  \n",
    "  \n",
    "  - Pegar os 10 Diretores de maior pontuação como referência\n",
    "\n",
    "\n",
    "\n"
   ]
  },
  {
   "cell_type": "code",
   "execution_count": null,
   "metadata": {},
   "outputs": [],
   "source": []
  },
  {
   "cell_type": "markdown",
   "metadata": {},
   "source": [
    "2 .**Escritor** -->\n",
    "\n",
    "  - BagOfItens com min_occur de 3\n",
    "  \n",
    "  \n",
    "  - Daí teremos o data_frame binarizado, com 1 em todos os documentos (filmes) em que ele escreveu\n",
    "  \n",
    "  \n",
    "  - Realizar a soma dos 1 em cada atributo (ver quantos filmes ele dirigiu)\n",
    "  \n",
    "  \n",
    "  - Pegar os 10 Diretores de maior pontuação como referência\n",
    "\n",
    "\n",
    "\n"
   ]
  },
  {
   "cell_type": "code",
   "execution_count": null,
   "metadata": {},
   "outputs": [],
   "source": []
  },
  {
   "cell_type": "markdown",
   "metadata": {},
   "source": [
    "3 .**Resumo**   -->\n",
    "\n",
    "- Separar as palavras de 3+ letras (elimina os principais artigos e preposições) como atributos de um dataframe\n",
    "\n",
    "\n",
    "- Calcular IDF das mesmas. \n",
    "\n",
    "\n",
    "- Pegar as 20 primeiras palavras\n",
    "\n",
    "\n",
    "\n"
   ]
  },
  {
   "cell_type": "code",
   "execution_count": null,
   "metadata": {},
   "outputs": [],
   "source": []
  },
  {
   "cell_type": "markdown",
   "metadata": {},
   "source": [
    "### ETAPA 2: __COMPARAR OS DADOS__\n",
    "\n",
    "  Comparar similaridades entre os dois gêneros: retirar o comum aos dois, pois seria inconclusivo\n",
    "\n",
    "\n",
    "A partir dos diretores, escritores e palavras coletados, fazer:\n",
    "\n"
   ]
  },
  {
   "cell_type": "code",
   "execution_count": null,
   "metadata": {},
   "outputs": [],
   "source": []
  },
  {
   "cell_type": "markdown",
   "metadata": {},
   "source": [
    "### ETAPA 3:  __APONTAR O GÊNERO__\n",
    "\n",
    "Dado um certo dataframe de filmes: \n",
    "  Verificar se o diretor é comum aos mais comuns do gênero \n",
    "  Verificar se o escritor é comum aos mais comuns do gênero\n",
    "  Verificar a ocorrência das 20 primeiras palavras. \n"
   ]
  },
  {
   "cell_type": "code",
   "execution_count": null,
   "metadata": {},
   "outputs": [],
   "source": []
  },
  {
   "cell_type": "markdown",
   "metadata": {},
   "source": [
    "#### INCONCLUSÕES\n",
    "\n",
    "Em caso de não possuir NENHUM dos elementos analisados, apontar Comédia, pois é mais genérico quanto a seu conteúdo"
   ]
  },
  {
   "cell_type": "code",
   "execution_count": null,
   "metadata": {},
   "outputs": [],
   "source": []
  },
  {
   "cell_type": "markdown",
   "metadata": {},
   "source": [
    "."
   ]
  },
  {
   "cell_type": "markdown",
   "metadata": {},
   "source": [
    "."
   ]
  },
  {
   "cell_type": "markdown",
   "metadata": {},
   "source": [
    "Cálculamos o IDF de cada palavra do atributo `resumo` de cada dataframe\n",
    "\n",
    "IDF BAIXO == COMUM PARA AQUELE GÊNERO\n",
    "\n",
    "Fazer esse procedimento com os dois dataframes\n",
    "\n",
    "Tendo essas palavras a gnt testa se as mesmas tem IDF alto ou (de preferencia) dividem por 0 no \n",
    "    (N/ni)"
   ]
  }
 ],
 "metadata": {
  "kernelspec": {
   "display_name": "Python 3.8.3 32-bit",
   "name": "python_defaultSpec_1597707718470"
  },
  "language_info": {
   "codemirror_mode": {
    "name": "ipython",
    "version": 3
   },
   "file_extension": ".py",
   "mimetype": "text/x-python",
   "name": "python",
   "nbconvert_exporter": "python",
   "pygments_lexer": "ipython3",
   "version": "3.8.3-final"
  }
 },
 "nbformat": 4,
 "nbformat_minor": 2
}
