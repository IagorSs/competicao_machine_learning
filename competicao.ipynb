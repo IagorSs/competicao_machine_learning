{
 "cells": [
  {
   "cell_type": "markdown",
   "metadata": {},
   "source": [
    "#   COMPETIÇÃO\n",
    "\n",
    "Alunos Felipe Morais\n",
    "       Iagor Sousa\n",
    "       \n",
    "                                               MISSÃO\n",
    "       \n",
    "   **PEGAR OS QUE MAIS REPETEM E, NUM DATA FRAME GRANDE, USAR ISSO COMO PARÂMETRO PARA IDENTIFICAR O GÊNERO**"
   ]
  },
  {
   "cell_type": "markdown",
   "metadata": {},
   "source": [
    "### ETAPA 1: _ELENCAR OS DADOS_\n",
    "\n",
    "    \n",
    "\n",
    "  - Separar o data_frame em dois: um de Action e outro de Comedy\n",
    "\n",
    " Parâmetros para se guiar:\n",
    "\n",
    "1 .**Diretor** --> \n",
    "\n",
    "  - Usar BagOfItens com min_occur de 3\n",
    "  \n",
    "  \n",
    "  - Daí teremos o data_frame binarizado, com 1 em todos os documentos (filmes) em que ele dirigiu\n",
    "  \n",
    "  \n",
    "  - Realizar a soma dos 1's em cada atributo (ver quantos filmes ele dirigiu)\n",
    "  \n",
    "  \n",
    "  - Pegar os 10 Diretores de maior pontuação como referência\n",
    "\n",
    "\n",
    "\n"
   ]
  },
  {
   "cell_type": "code",
   "execution_count": null,
   "metadata": {},
   "outputs": [],
   "source": []
  },
  {
   "cell_type": "markdown",
   "metadata": {},
   "source": [
    "2 .**Escritor** -->\n",
    "\n",
    "  - BagOfItens com min_occur de 3\n",
    "  \n",
    "  \n",
    "  - Daí teremos o data_frame binarizado, com 1 em todos os documentos (filmes) em que ele escreveu\n",
    "  \n",
    "  \n",
    "  - Realizar a soma dos 1 em cada atributo (ver quantos filmes ele dirigiu)\n",
    "  \n",
    "  \n",
    "  - Pegar os 10 Diretores de maior pontuação como referência\n",
    "\n",
    "\n",
    "\n"
   ]
  },
  {
   "cell_type": "code",
   "execution_count": null,
   "metadata": {},
   "outputs": [],
   "source": []
  },
  {
   "cell_type": "markdown",
   "metadata": {},
   "source": [
    "3 .**Resumo**   -->\n",
    "\n",
    "- Separar as palavras de 3+ letras (elimina os principais artigos e preposições) como atributos de um dataframe\n",
    "\n",
    "\n",
    "- Calcular IDF das mesmas. \n",
    "\n",
    "\n",
    "- Pegar as 20 primeiras palavras\n",
    "\n",
    "\n",
    "\n"
   ]
  },
  {
   "cell_type": "code",
   "execution_count": null,
   "metadata": {},
   "outputs": [],
   "source": []
  },
  {
   "cell_type": "markdown",
   "metadata": {},
   "source": [
    "### ETAPA 2: __COMPARAR OS DADOS__\n",
    "\n",
    "  Comparar similaridades entre os dois gêneros: retirar o comum aos dois, pois seria inconclusivo\n",
    "\n",
    "\n",
    "A partir dos diretores, escritores e palavras coletados, fazer:\n",
    "\n"
   ]
  },
  {
   "cell_type": "code",
   "execution_count": null,
   "metadata": {},
   "outputs": [],
   "source": []
  },
  {
   "cell_type": "markdown",
   "metadata": {},
   "source": [
    "### ETAPA 3:  __APONTAR O GÊNERO__\n",
    "\n",
    "Dado um certo dataframe de filmes: \n",
    "  Verificar se o diretor é comum aos mais comuns do gênero \n",
    "  Verificar se o escritor é comum aos mais comuns do gênero\n",
    "  Verificar a ocorrência das 20 primeiras palavras. \n"
   ]
  },
  {
   "cell_type": "code",
   "execution_count": null,
   "metadata": {},
   "outputs": [],
   "source": []
  },
  {
   "cell_type": "markdown",
   "metadata": {},
   "source": [
    "#### INCONCLUSÕES\n",
    "\n",
    "Em caso de não possuir NENHUM dos elementos analisados, apontar Comédia, pois é mais genérico quanto a seu conteúdo"
   ]
  },
  {
   "cell_type": "code",
   "execution_count": null,
   "metadata": {},
   "outputs": [],
   "source": []
  },
  {
   "cell_type": "markdown",
   "metadata": {},
   "source": [
    "."
   ]
  },
  {
   "cell_type": "markdown",
   "metadata": {},
   "source": [
    "."
   ]
  },
  {
   "cell_type": "markdown",
   "metadata": {},
   "source": [
    "Cálculamos o IDF de cada palavra do atributo `resumo` de cada dataframe\n",
    "\n",
    "IDF BAIXO == COMUM PARA AQUELE GÊNERO\n",
    "\n",
    "Fazer esse procedimento com os dois dataframes\n",
    "\n",
    "Tendo essas palavras a gnt testa se as mesmas tem IDF alto ou (de preferencia) dividem por 0 no \n",
    "    (N/ni)"
   ]
  },
  {
   "cell_type": "code",
   "execution_count": 1,
   "metadata": {
    "tags": []
   },
   "outputs": [],
   "source": [
    "from competicao_am.metodo_competicao import MetodoCompeticao\n",
    "import pandas as pd\n",
    "\n",
    "df = pd.read_csv('./datasets/movies_amostra.csv')\n",
    "\n",
    "treino_df = df.sample(frac = 0.1, random_state=1)\n",
    "pre_teste_df = df.drop(index = treino_df.index)\n",
    "teste_df = df.sample(frac = 0.1, random_state=1)"
   ]
  },
  {
   "cell_type": "code",
   "execution_count": 2,
   "metadata": {
    "tags": []
   },
   "outputs": [
    {
     "output_type": "stream",
     "name": "stdout",
     "text": "Diretores avaliados!\nEscritores avaliados!\n0/108\n100/108\nAction words discovered!\n0/192\n100/192\nComedy words discovered!\nPalavras semelhantes retiradas\nMax and Min setted\nPalavras de comédia e ação refinadas\nResumos avaliados!\n"
    }
   ],
   "source": [
    "my_method = MetodoCompeticao()\n",
    "\n",
    "resultado_final = my_method.eval(treino_df, teste_df, 'genero',flags=True)"
   ]
  },
  {
   "cell_type": "code",
   "execution_count": 6,
   "metadata": {},
   "outputs": [
    {
     "output_type": "execute_result",
     "data": {
      "text/plain": "array([0.        , 0.78688525, 0.07142857])"
     },
     "metadata": {},
     "execution_count": 6
    }
   ],
   "source": [
    "resultado_final."
   ]
  },
  {
   "cell_type": "code",
   "execution_count": 1,
   "metadata": {
    "tags": []
   },
   "outputs": [],
   "source": [
    "from competicao_am.gerar_resultado_teste import gerar_saida_teste\n",
    "import pandas as pd\n",
    "\n",
    "true_teste = pd.read_csv('./datasets/movies_amostra_teste_ex.csv')\n",
    "\n",
    "gerar_saida_teste(true_teste, 'genero', '001')"
   ]
  },
  {
   "cell_type": "code",
   "execution_count": 1,
   "metadata": {
    "tags": []
   },
   "outputs": [
    {
     "output_type": "stream",
     "name": "stdout",
     "text": "<class 'list'>\n"
    },
    {
     "output_type": "execute_result",
     "data": {
      "text/plain": "[1.0, 2.0, 1.0]"
     },
     "metadata": {},
     "execution_count": 1
    }
   ],
   "source": [
    "from competicao_am.resultado_competicao import ResultadoCompeticao\n",
    "\n",
    "vector = ResultadoCompeticao.convert_list_to_float(['Comedy','Action','Comedy'])\n",
    "\n",
    "vector"
   ]
  },
  {
   "cell_type": "code",
   "execution_count": null,
   "metadata": {},
   "outputs": [],
   "source": []
  }
 ],
 "metadata": {
  "kernelspec": {
   "display_name": "Python 3.8.3 32-bit",
   "name": "python_defaultSpec_1597843021064"
  },
  "language_info": {
   "codemirror_mode": {
    "name": "ipython",
    "version": 3
   },
   "file_extension": ".py",
   "mimetype": "text/x-python",
   "name": "python",
   "nbconvert_exporter": "python",
   "pygments_lexer": "ipython3",
   "version": "3.8.3-final"
  }
 },
 "nbformat": 4,
 "nbformat_minor": 2
}